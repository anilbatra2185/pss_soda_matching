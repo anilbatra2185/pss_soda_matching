{
 "cells": [
  {
   "cell_type": "code",
   "execution_count": 1,
   "id": "227d9d3f-de20-40fa-89a4-af634dbd28f9",
   "metadata": {},
   "outputs": [],
   "source": [
    "import torch\n",
    "import numpy as np\n",
    "from soft_dp import SoftSODA"
   ]
  },
  {
   "cell_type": "code",
   "execution_count": 2,
   "id": "d465275e-e8e9-482b-bd36-e90a52a52e38",
   "metadata": {},
   "outputs": [],
   "source": [
    "gt = np.array([[5,10], [11,19], [28,32]])\n",
    "proposals = np.array([[3,7], [4,14], [15,33],[24,30],[25,33],[37,45]])"
   ]
  },
  {
   "cell_type": "code",
   "execution_count": 3,
   "id": "51fe9d5b-53b4-411a-b5b4-73f97ad92907",
   "metadata": {},
   "outputs": [],
   "source": [
    "def box_iou(boxes1, boxes2):\n",
    "    area1 = boxes1[:, 1] - boxes1[:, 0]\n",
    "    area2 = boxes2[:, 1] - boxes2[:, 0]\n",
    "    lt = torch.max(boxes1[:, None, 0], boxes2[:, 0])  # [N,M,2]\n",
    "    rb = torch.min(boxes1[:, None, 1], boxes2[:, 1])  # [N,M,2]\n",
    "    inter = (rb - lt).clamp(min=0)  # [N,M,2]\n",
    "    union = area1[:, None] + area2 - inter\n",
    "    iou = inter / (union + 1e-5)\n",
    "    return iou, union\n",
    "\n",
    "\n",
    "def generalized_box_iou(boxes1, boxes2):\n",
    "    \"\"\"\n",
    "    Generalized IoU from https://giou.stanford.edu/\n",
    "\n",
    "    The boxes should be in [x0, y0, x1, y1] format\n",
    "\n",
    "    Returns a [N, M] pairwise matrix, where N = len(boxes1)\n",
    "    and M = len(boxes2)\n",
    "    \"\"\"\n",
    "    #print(boxes1.size(), boxes2.size())\n",
    "    # degenerate boxes gives inf / nan results\n",
    "    # so do an early check\n",
    "    assert (boxes1[:, 1:] >= boxes1[:, :1]).all()\n",
    "    assert (boxes2[:, 1:] >= boxes2[:, :1]).all()\n",
    "    iou, union = box_iou(boxes1, boxes2)\n",
    "    lt = torch.min(boxes1[:, None, 0], boxes2[:, 0])\n",
    "    rb = torch.max(boxes1[:, None, 1], boxes2[:, 1])\n",
    "    area = (rb - lt).clamp(min=0)  # [N,M,2]\n",
    "    giou = iou - (area - union) / (area + 1e-5)\n",
    "    return giou, iou"
   ]
  },
  {
   "cell_type": "code",
   "execution_count": 6,
   "id": "b40239c8-b5e4-4b1e-89c1-2c38de6c824a",
   "metadata": {},
   "outputs": [
    {
     "data": {
      "text/plain": [
       "tensor([[[ 0.2857,  0.5000, -0.1786, -0.5600, -0.5357, -0.6750],\n",
       "         [-0.2500,  0.2000,  0.1818, -0.2632, -0.2727, -0.5294],\n",
       "         [-0.7241, -0.5000,  0.2222,  0.2500,  0.5000, -0.2941]]])"
      ]
     },
     "execution_count": 6,
     "metadata": {},
     "output_type": "execute_result"
    }
   ],
   "source": [
    "giou_cost, iou_cost = generalized_box_iou(torch.from_numpy(gt), torch.from_numpy(proposals))\n",
    "giou_cost.unsqueeze(0)"
   ]
  },
  {
   "cell_type": "code",
   "execution_count": 8,
   "id": "43990ece-fe35-4d0e-8263-e5b95db0f498",
   "metadata": {},
   "outputs": [
    {
     "data": {
      "text/plain": [
       "tensor(-0.3939, device='cuda:0')"
      ]
     },
     "execution_count": 8,
     "metadata": {},
     "output_type": "execute_result"
    }
   ],
   "source": [
    "loss, soda_matrix = SoftSODA(-giou_cost.unsqueeze(0), gamma_min=0.01)\n",
    "loss /3"
   ]
  },
  {
   "cell_type": "code",
   "execution_count": 14,
   "id": "f948d2c3-a81b-48a0-9bb0-5a6488328905",
   "metadata": {},
   "outputs": [],
   "source": [
    "# torch.cat(soda_matrix.vars, 0)"
   ]
  },
  {
   "cell_type": "code",
   "execution_count": 10,
   "id": "87ccdfda-2cff-4d75-b912-44e7b3f7f73c",
   "metadata": {},
   "outputs": [
    {
     "data": {
      "text/plain": [
       "array([[2., 2., 1., 1., 1., 1.],\n",
       "       [0., 0., 2., 1., 1., 1.],\n",
       "       [0., 0., 2., 2., 2., 1.]])"
      ]
     },
     "execution_count": 10,
     "metadata": {},
     "output_type": "execute_result"
    }
   ],
   "source": [
    "soda_matrix[1:, 1:]"
   ]
  },
  {
   "cell_type": "code",
   "execution_count": 11,
   "id": "cd6d629e-8758-414d-8d0a-3283b106a72d",
   "metadata": {},
   "outputs": [
    {
     "data": {
      "text/plain": [
       "tensor([[0.7143, 0.5000, 1.1786, 1.5600, 1.5357, 1.6750],\n",
       "        [1.2500, 0.8000, 0.8182, 1.2632, 1.2727, 1.5294],\n",
       "        [1.7241, 1.5000, 0.7778, 0.7500, 0.5000, 1.2941]])"
      ]
     },
     "execution_count": 11,
     "metadata": {},
     "output_type": "execute_result"
    }
   ],
   "source": [
    "1-giou_cost"
   ]
  },
  {
   "cell_type": "code",
   "execution_count": 12,
   "id": "ef5c2cdc-1579-4f5f-a5ab-b507d8ecb9c0",
   "metadata": {},
   "outputs": [
    {
     "data": {
      "text/plain": [
       "tensor([[-0.2857, -0.5000,  0.1786,  0.5600,  0.5357,  0.6750],\n",
       "        [ 0.2500, -0.2000, -0.1818,  0.2632,  0.2727,  0.5294],\n",
       "        [ 0.7241,  0.5000, -0.2222, -0.2500, -0.5000,  0.2941]])"
      ]
     },
     "execution_count": 12,
     "metadata": {},
     "output_type": "execute_result"
    }
   ],
   "source": [
    "-giou_cost"
   ]
  },
  {
   "cell_type": "code",
   "execution_count": null,
   "id": "89fdc0f7-9379-48b3-a98f-d7de0c2cdf94",
   "metadata": {},
   "outputs": [],
   "source": []
  }
 ],
 "metadata": {
  "kernelspec": {
   "display_name": "yc2",
   "language": "python",
   "name": "yc2"
  },
  "language_info": {
   "codemirror_mode": {
    "name": "ipython",
    "version": 3
   },
   "file_extension": ".py",
   "mimetype": "text/x-python",
   "name": "python",
   "nbconvert_exporter": "python",
   "pygments_lexer": "ipython3",
   "version": "3.8.5"
  }
 },
 "nbformat": 4,
 "nbformat_minor": 5
}
